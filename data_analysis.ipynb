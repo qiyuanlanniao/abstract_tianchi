{
 "cells": [
  {
   "cell_type": "code",
   "execution_count": 1,
   "metadata": {},
   "outputs": [],
   "source": [
    "import matplotlib.pyplot as plt\n",
    "import matplotlib\n",
    "font = matplotlib.font_manager.FontProperties(fname='SimSun.ttf',size = 10)\n",
    "import pandas as pd\n",
    "import json\n",
    "import numpy as np\n",
    "import jieba\n",
    "import os\n",
    "import wordcloud\n",
    "from wordcloud import WordCloud"
   ]
  },
  {
   "cell_type": "code",
   "execution_count": 6,
   "metadata": {},
   "outputs": [
    {
     "name": "stdout",
     "output_type": "stream",
     "text": [
      "8000 1000\n"
     ]
    },
    {
     "data": {
      "image/png": "[encoded data removed]",
      "text/plain": [
       "<Figure size 432x288 with 1 Axes>"
      ]
     },
     "metadata": {
      "needs_background": "light"
     },
     "output_type": "display_data"
    }
   ],
   "source": [
    "import json\n",
    "\n",
    "with open('data/testa.json','r') as file:\n",
    "    content = file.readlines()\n",
    "    content = [line.strip() for line in content if line.strip()]\n",
    "    test = [json.loads(line) for line in content]\n",
    "\n",
    "with open('data/train.json','r') as file:\n",
    "    content = file.readlines()\n",
    "    content = [line.strip() for line in content if line.strip()]\n",
    "    train = [json.loads(line) for line in content]\n",
    "print(len(train),len(test))\n",
    "\n",
    "x = ['train','test']\n",
    "plt.bar(x , [len(train) , len(test)] , color='skyblue')\n",
    "plt.grid()\n",
    "plt.xlabel('data')\n",
    "plt.ylabel('data num')\n",
    "plt.show()"
   ]
  },
  {
   "cell_type": "code",
   "execution_count": 9,
   "metadata": {},
   "outputs": [
    {
     "name": "stdout",
     "output_type": "stream",
     "text": [
      "训练集合 每个case具体属性查看\n",
      "dict_keys(['new-ID', 'doc', 'events', 'summarizations'])\n",
      "key new-ID : 10290 \n",
      "\n",
      "key doc : 成都市原市长助理门生涉嫌受贿案侦查终结，移送审查起诉_一号专案_澎湃新闻-ThePape。\n",
      "\n",
      "中新网成都1月5日电，5日，成都市人民检察院官方网站公布了近段时间成都市检察机关查处的4起职务犯罪案件信息。其中，原成都市市长助理、秘书长门生（副厅级）涉嫌受贿一案，由成都市人民检察院侦查终结，移送审查起诉。门生，男，汉族，1959年3月生，四川内江人。2009年门生因抗震救灾有功等原因，兼任成都市市长助理。2013年2月，门生转任成都市市长助理、市政府秘书长，并兼市政府办公厅党组书记，市委党校（行政学院）第一副校（院）长等职迄今。2015年06月10日，成都市纪委发布消息称，经成都市委同意，成都市纪委对成都市市长助理、市政府秘书长门生涉嫌严重违纪违法问题进行立案调查。门生是2014年8月以来，成都继陈争鸣、刘俊林及周鸿德之后落马的第4位市长助理。2015年9月17日，成都市人民检察院依法决定对成都市政府原市长助理、秘书长门生（副厅级）受贿立案侦查。2015年9月25日，经四川省人民检察院决定，依法对门生予以逮捕。此外，成都市检察院还公布了成都武侯区投资促进局副局长岳文婷、成都锦江区三圣街道办事处办公室原主任胡杨、成都市公积金管理中心原党委书记胡旭光的职务犯罪案件信息。 \n",
      "\n",
      "key events : [{'id': '10290_1', 'content': '门生，2015年9月17日，成都市人民检察院依法决定对成都市政府原市长助理、秘书长门生（副厅级）受贿立案侦查。', 'spans': [{'start': 151, 'end': 154}, {'start': 375, 'end': 427}]}, {'id': '10290_2', 'content': '5日，门生，2015年9月17日，成都市人民检察院依法决定对成都市政府原市长助理、秘书长门生（副厅级）受贿立案侦查。2015年9月25日，经四川省人民检察院决定，依法对门生予以逮捕。', 'spans': [{'start': 58, 'end': 61}, {'start': 151, 'end': 154}, {'start': 375, 'end': 460}]}] \n",
      "\n",
      "key summarizations : [{'id': '10290_1', 'event-summarization': '2015年9月17日，成都市人民检察院对门生受贿立案侦查'}, {'id': '10290_2', 'event-summarization': '2015年9月25日，门生因受贿被四川省人民检察院决定逮捕'}] \n",
      "\n",
      "测试集合 每个case具体属性查看\n",
      "dict_keys(['new-ID', 'doc', 'events'])\n",
      "key new-ID : 10631 \n",
      "\n",
      "key doc : 意大利4.8级地震造成多处房屋倒塌至少28人受伤。\n",
      "12月27日电据欧联网援引意大利欧联通讯社报道，当地时间12月26日凌晨，位于埃特纳火山附近的意大利西西里大区卡塔尼亚省发生了多次地震，最大震级4.8级。地震造成多处房屋倒塌，至少有28名居民受伤。\n",
      "据报道，当地时间26日凌晨3时19分，卡塔尼亚省发生4.8级地震，震中位于卡塔尼亚市北部的维亚格兰德市。官方通报，地震造成28名居民不同程度受轻伤，其中10人入院接受治疗。\n",
      "24日，埃特纳火山再次开始复活喷发，火山附近区域连续频繁出现小规模地震。意大利国家地球物理与火山学研究中心监测资料显示，从24日上午9时开始，火山周边地区发生大约130多次地震。\n",
      "根据意大利国家地球物理与火山学研究中心监测资料，26日的地震震中位于维亚格兰德市北部2公里的埃特纳火山山坡，震源深度1公里。凌晨1时9分，该区域还发生了3.4级地震，震中位于阿奇桑坦托尼奥市北部4公里。\n",
      "意大利国家地质学家委员会主席弗朗切斯科•贝杜托表示，此次强震完全是由埃特纳火山活动所造成。其震源深度仅为1公里，也说明了这是一次火山引起的地震。\n",
      "贝杜托强调，很遗憾，现在还无法对地震做出有效预测。目前埃特纳火山还在喷发，地震依然时有发生，初步预测，未来火山周边地区还会有更大强度的地震。对于人们所期待的地震群能否迅速消失，尚无科学依据给出确切答案。\n",
      "在回应埃特纳火山是否可能引发维苏威火山苏醒猜测时，贝杜托表示，埃特纳火山和斯特龙博利火山之间可能存在关联，但可以非常确定地说，西西里火山群与维苏威火山没有关联。\n",
      "贝杜托指出，意大利一直面临着各种地质灾害困扰，政府很有必要加强防灾减灾工作，提高抗击地质灾害的能力和措施。\n",
      "地震发生之后，26日凌晨5时，意大利民防部部长安杰洛•博雷利在罗马召开紧急会议后，迅速组织专家赶往灾区了解地震受灾情况，并部署救援和灾区安全检查工作。(博源) \n",
      "\n",
      "key events : [{'id': '10631_1', 'content': '8级。据报道，当地时间26日凌晨3时19分，卡塔尼亚省发生4.8级地震，震中位于卡塔尼亚市北部的维亚格兰德市。官方通报，地震造成28名居民不同程度受轻伤，其中10人入院接受治疗。根据意大利国家地球物理与火山学研究中心监测资料，26日的地震震中位于维亚格兰德市北部2公里的埃特纳火山山坡，震源深度1公里。', 'spans': [{'start': 100, 'end': 103}, {'start': 126, 'end': 212}, {'start': 303, 'end': 365}]}, {'id': '10631_2', 'content': '根据意大利国家地球物理与火山学研究中心监测资料，26日的地震震中位于维亚格兰德市北部2公里的埃特纳火山山坡，震源深度1公里。凌晨1时9分，该区域还发生了3.4级地震，震中位于阿奇桑坦托尼奥市北部4公里。', 'spans': [{'start': 303, 'end': 404}]}] \n",
      "\n"
     ]
    }
   ],
   "source": [
    "print(f'训练集合 每个case具体属性查看')\n",
    "print(train[0].keys())\n",
    "for k,v in train[0].items():\n",
    "    print(f'key {k} : {v} \\n')\n",
    "\n",
    "print(f'测试集合 每个case具体属性查看')\n",
    "print(test[0].keys())\n",
    "for k,v in test[0].items():\n",
    "    print(f'key {k} : {v} \\n')"
   ]
  },
  {
   "cell_type": "code",
   "execution_count": null,
   "metadata": {},
   "outputs": [],
   "source": [
    "# summary文本的长度，即模型输出\n",
    "from collections import Counter\n",
    "string_arr = [item['summary'] for item in data]\n",
    "length_counter = Counter(len(s) for s in string_arr)\n",
    "lengths, counts = zip(*length_counter.items())\n",
    "plt.figure(figsize=(8, 6))\n",
    "plt.bar(lengths, counts, color='skyblue')\n",
    "average_length = sum(length * count for length, count in length_counter.items()) / sum(counts)\n",
    "plt.axvline(x=average_length, color='red', linestyle='--', label=f'mean length: {average_length:.2f}')\n",
    "plt.xlabel('长度',font=font)\n",
    "plt.ylabel('数量',font=font)\n",
    "plt.title('文本长度分布',font=font)\n",
    "plt.legend()\n",
    "plt.xticks(range(min(lengths), max(lengths)+1, 20))\n",
    "plt.show()\n",
    "\n",
    "print(f'文本最短长度 {min(lengths)} 文本最大长度 {max(lengths)}')"
   ]
  },
  {
   "cell_type": "code",
   "execution_count": null,
   "metadata": {},
   "outputs": [],
   "source": [
    "# 统计summary的高频字高频词\n",
    "string_arr = [item['summary'] for item in data]\n",
    "# 分词并统计词频\n",
    "word_counts = Counter()\n",
    "for string in string_arr:\n",
    "    seg_list = jieba.cut(string)\n",
    "    word_counts.update(seg_list)\n",
    "# 提取前50个高频词及其数量\n",
    "top_words = word_counts.most_common(50)\n",
    "words, counts = zip(*top_words)\n",
    "# 绘制柱状图\n",
    "plt.figure(figsize=(10, 6))\n",
    "plt.bar(range(len(words)), counts, color='skyblue')\n",
    "plt.xticks(range(len(words)), words, rotation=90,font=font)\n",
    "plt.xlabel('词语',font=font)\n",
    "plt.ylabel('数量',font=font)\n",
    "plt.title('前50个高频词',font=font)\n",
    "plt.grid()\n",
    "plt.show()\n",
    "\n"
   ]
  },
  {
   "cell_type": "code",
   "execution_count": null,
   "metadata": {},
   "outputs": [],
   "source": [
    "# 统计会议记录的高频词字\n",
    "string_arr = [item['all_high_word'] for item in data]\n",
    "# 分词并统计词频\n",
    "word_counts = Counter()\n",
    "for string in string_arr:\n",
    "    seg_list = jieba.cut(string)\n",
    "    word_counts.update(seg_list)\n",
    "# 提取前50个高频词及其数量\n",
    "top_words = word_counts.most_common(50)\n",
    "words, counts = zip(*top_words)\n",
    "# 绘制柱状图\n",
    "plt.figure(figsize=(10, 6))\n",
    "plt.bar(range(len(words)), counts, color='skyblue')\n",
    "plt.xticks(range(len(words)), words, rotation=90,font=font)\n",
    "plt.xlabel('词语',font=font)\n",
    "plt.ylabel('数量',font=font)\n",
    "plt.title('前50个高频词',font=font)\n",
    "plt.grid()\n",
    "plt.show()\n",
    "\n"
   ]
  },
  {
   "cell_type": "code",
   "execution_count": null,
   "metadata": {},
   "outputs": [],
   "source": [
    "# 绘制summary文本的的词云图\n",
    "text = []\n",
    "for item in data:\n",
    "    tmp = list(jieba.cut(item['summary']))\n",
    "    tmp = [w for w in tmp if len(w)>1]\n",
    "    text.extend(tmp)\n",
    "\n",
    "text = '\\n'.join(text)\n",
    "wc = WordCloud(font_path='SimSun.ttf',background_color='white').generate(text)\n",
    "plt.figure(figsize=(10,6))\n",
    "plt.imshow(wc, interpolation='bilinear')\n",
    "# plt.savefig('wordcloud.jpg') # 保存图片\n",
    "plt.axis(\"off\")\n",
    "plt.show()"
   ]
  },
  {
   "cell_type": "code",
   "execution_count": null,
   "metadata": {},
   "outputs": [],
   "source": [
    "# 绘制会议记录的文本的的词云图\n",
    "text = []\n",
    "for item in data:\n",
    "    tmp = list(jieba.cut(item['all_high_word']))\n",
    "    tmp = [w for w in tmp if len(w)>1]\n",
    "    text.extend(tmp)\n",
    "\n",
    "text = '\\n'.join(text)\n",
    "wc = WordCloud(font_path='SimSun.ttf',background_color='white').generate(text)\n",
    "plt.figure(figsize=(10,6))\n",
    "plt.imshow(wc, interpolation='bilinear')\n",
    "# plt.savefig('wordcloud.jpg') # 保存图片\n",
    "plt.axis(\"off\")\n",
    "plt.show()"
   ]
  }
 ],
 "metadata": {
  "kernelspec": {
   "display_name": "py38",
   "language": "python",
   "name": "python3"
  },
  "language_info": {
   "codemirror_mode": {
    "name": "ipython",
    "version": 3
   },
   "file_extension": ".py",
   "mimetype": "text/x-python",
   "name": "python",
   "nbconvert_exporter": "python",
   "pygments_lexer": "ipython3",
   "version": "3.8.13"
  }
 },
 "nbformat": 4,
 "nbformat_minor": 2
}
